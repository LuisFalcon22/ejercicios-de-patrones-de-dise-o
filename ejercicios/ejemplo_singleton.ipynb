{
 "cells": [
  {
   "cell_type": "code",
   "execution_count": 1,
   "metadata": {},
   "outputs": [
    {
     "name": "stdout",
     "output_type": "stream",
     "text": [
      "¡Registro de inicio de sesión creado!\n",
      "True\n",
      "Iniciando sesión para el usuario usuario1...\n",
      "Cerrando sesión...\n"
     ]
    }
   ],
   "source": [
    "class RegistroInicioSesion:\n",
    "    # La variable de clase que almacenará la única instancia\n",
    "    _instancia = None\n",
    "\n",
    "    # Método estático para obtener la instancia única\n",
    "    @staticmethod\n",
    "    def obtener_instancia():\n",
    "        # Si la instancia aún no ha sido creada, la creamos\n",
    "        if RegistroInicioSesion._instancia is None:\n",
    "            RegistroInicioSesion._instancia = RegistroInicioSesion()\n",
    "        return RegistroInicioSesion._instancia\n",
    "\n",
    "    # Constructor privado para evitar la creación de instancias directas\n",
    "    def __init__(self):\n",
    "        if RegistroInicioSesion._instancia is not None:\n",
    "            raise Exception(\"¡Esta clase es un singleton! \")\n",
    "        else:\n",
    "            print(\"¡Registro de inicio de sesión creado!\")\n",
    "\n",
    "    # Métodos de la clase\n",
    "    def iniciar_sesion(self, usuario, contraseña):\n",
    "        print(f\"Iniciando sesión para el usuario {usuario}...\")\n",
    "\n",
    "    def cerrar_sesion(self):\n",
    "        print(\"Cerrando sesión...\")\n",
    "\n",
    "# Uso del Singleton\n",
    "registro_inicio_sesion1 = RegistroInicioSesion.obtener_instancia()\n",
    "registro_inicio_sesion2 = RegistroInicioSesion.obtener_instancia()\n",
    "\n",
    "# Ambas variables apuntan a la misma instancia\n",
    "print(registro_inicio_sesion1 is registro_inicio_sesion2)  # Output: True\n",
    "\n",
    "# Intentar crear una instancia directamente levanta una excepción\n",
    "# registro_inicio_sesion = RegistroInicioSesion()  # Esto levantará una excepción\n",
    "\n",
    "# Probemos algunos métodos\n",
    "registro_inicio_sesion1.iniciar_sesion(\"usuario1\", \"contraseña1\")\n",
    "registro_inicio_sesion2.cerrar_sesion()\n"
   ]
  }
 ],
 "metadata": {
  "kernelspec": {
   "display_name": "Python 3",
   "language": "python",
   "name": "python3"
  },
  "language_info": {
   "codemirror_mode": {
    "name": "ipython",
    "version": 3
   },
   "file_extension": ".py",
   "mimetype": "text/x-python",
   "name": "python",
   "nbconvert_exporter": "python",
   "pygments_lexer": "ipython3",
   "version": "3.10.13"
  }
 },
 "nbformat": 4,
 "nbformat_minor": 2
}
