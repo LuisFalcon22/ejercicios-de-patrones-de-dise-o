{
 "cells": [
  {
   "cell_type": "code",
   "execution_count": 3,
   "metadata": {},
   "outputs": [
    {
     "name": "stdout",
     "output_type": "stream",
     "text": [
      "Costo total de la reserva: 1130\n"
     ]
    }
   ],
   "source": [
    "# Interfaz del Visitor\n",
    "class Visitante:\n",
    "    def visitar_vuelo(self, vuelo):\n",
    "        pass\n",
    "\n",
    "    def visitar_hotel(self, hotel):\n",
    "        pass\n",
    "\n",
    "    def visitar_excursion(self, excursion):\n",
    "        pass\n",
    "\n",
    "# Clases de elementos reservables\n",
    "class Vuelo:\n",
    "    def __init__(self, precio):\n",
    "        self.precio = precio\n",
    "\n",
    "    def aceptar(self, visitante):\n",
    "        visitante.visitar_vuelo(self)\n",
    "\n",
    "class Hotel:\n",
    "    def __init__(self, precio_por_noche, noches):\n",
    "        self.precio_por_noche = precio_por_noche\n",
    "        self.noches = noches\n",
    "\n",
    "    def aceptar(self, visitante):\n",
    "        visitante.visitar_hotel(self)\n",
    "\n",
    "class Excursion:\n",
    "    def __init__(self, precio):\n",
    "        self.precio = precio\n",
    "\n",
    "    def aceptar(self, visitante):\n",
    "        visitante.visitar_excursion(self)\n",
    "\n",
    "# Implementaciones concretas del Visitor\n",
    "class CalcularCostoVisitor(Visitante):\n",
    "    def __init__(self):\n",
    "        self.costo_total = 0\n",
    "\n",
    "    def visitar_vuelo(self, vuelo):\n",
    "        self.costo_total += vuelo.precio\n",
    "\n",
    "    def visitar_hotel(self, hotel):\n",
    "        self.costo_total += hotel.precio_por_noche * hotel.noches\n",
    "\n",
    "    def visitar_excursion(self, excursion):\n",
    "        self.costo_total += excursion.precio\n",
    "\n",
    "# Creación de elementos reservables\n",
    "elementos_reservables = [\n",
    "    Vuelo(500),\n",
    "    Hotel(100, 3),\n",
    "    Excursion(50),\n",
    "    Hotel(120, 2),\n",
    "    Excursion(40)\n",
    "]\n",
    "\n",
    "# Visitar cada elemento reservable utilizando el Visitor\n",
    "visitante = CalcularCostoVisitor()\n",
    "for elemento in elementos_reservables:\n",
    "    elemento.aceptar(visitante)\n",
    "\n",
    "print(\"Costo total de la reserva:\", visitante.costo_total)\n"
   ]
  }
 ],
 "metadata": {
  "kernelspec": {
   "display_name": "Python 3",
   "language": "python",
   "name": "python3"
  },
  "language_info": {
   "codemirror_mode": {
    "name": "ipython",
    "version": 3
   },
   "file_extension": ".py",
   "mimetype": "text/x-python",
   "name": "python",
   "nbconvert_exporter": "python",
   "pygments_lexer": "ipython3",
   "version": "3.10.13"
  }
 },
 "nbformat": 4,
 "nbformat_minor": 2
}
