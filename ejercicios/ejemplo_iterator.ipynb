{
 "cells": [
  {
   "cell_type": "code",
   "execution_count": 2,
   "metadata": {},
   "outputs": [
    {
     "name": "stdout",
     "output_type": "stream",
     "text": [
      "Total de la compra: 6.5\n"
     ]
    }
   ],
   "source": [
    "# Clase de producto\n",
    "class Producto:\n",
    "    def __init__(self, nombre, precio):\n",
    "        self.nombre = nombre\n",
    "        self.precio = precio\n",
    "\n",
    "# Clase de la caja registradora\n",
    "class CajaRegistradora:\n",
    "    def __init__(self):\n",
    "        self.productos = []\n",
    "\n",
    "    def agregar_producto(self, producto):\n",
    "        self.productos.append(producto)\n",
    "\n",
    "    # Método para obtener un iterador sobre los productos\n",
    "    def __iter__(self):\n",
    "        return IteradorProductos(self.productos)\n",
    "\n",
    "# Clase del iterador\n",
    "class IteradorProductos:\n",
    "    def __init__(self, productos):\n",
    "        self.productos = productos\n",
    "        self.indice_actual = 0\n",
    "\n",
    "    def __iter__(self):\n",
    "        return self\n",
    "\n",
    "    def __next__(self):\n",
    "        if self.indice_actual < len(self.productos):\n",
    "            producto_actual = self.productos[self.indice_actual]\n",
    "            self.indice_actual += 1\n",
    "            return producto_actual\n",
    "        else:\n",
    "            raise StopIteration\n",
    "\n",
    "# Creación de la caja registradora y agregando productos\n",
    "caja_registradora = CajaRegistradora()\n",
    "caja_registradora.agregar_producto(Producto(\"Leche\", 2.5))\n",
    "caja_registradora.agregar_producto(Producto(\"Pan\", 1.0))\n",
    "caja_registradora.agregar_producto(Producto(\"Huevos\", 3.0))\n",
    "\n",
    "# Calculando el total de la compra iterando sobre los productos\n",
    "total_compra = 0\n",
    "for producto in caja_registradora:\n",
    "    total_compra += producto.precio\n",
    "\n",
    "print(\"Total de la compra:\", total_compra)\n"
   ]
  }
 ],
 "metadata": {
  "kernelspec": {
   "display_name": "Python 3",
   "language": "python",
   "name": "python3"
  },
  "language_info": {
   "codemirror_mode": {
    "name": "ipython",
    "version": 3
   },
   "file_extension": ".py",
   "mimetype": "text/x-python",
   "name": "python",
   "nbconvert_exporter": "python",
   "pygments_lexer": "ipython3",
   "version": "3.10.13"
  }
 },
 "nbformat": 4,
 "nbformat_minor": 2
}
