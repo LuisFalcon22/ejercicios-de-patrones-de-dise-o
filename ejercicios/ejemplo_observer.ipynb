{
 "cells": [
  {
   "cell_type": "code",
   "execution_count": 3,
   "metadata": {},
   "outputs": [
    {
     "name": "stdout",
     "output_type": "stream",
     "text": [
      "Alice recibió el mensaje: ¡Hola a todos!\n",
      "Bob recibió el mensaje: ¡Hola a todos!\n"
     ]
    }
   ],
   "source": [
    "from abc import ABC, abstractmethod\n",
    "\n",
    "class Sujeto(ABC):\n",
    "    \"\"\"\n",
    "    Interfaz Sujeto que define los métodos que un sujeto debería implementar.\n",
    "    \"\"\"\n",
    "    @abstractmethod\n",
    "    def registrar_observador(self, observador):\n",
    "        pass\n",
    "\n",
    "    @abstractmethod\n",
    "    def eliminar_observador(self, observador):\n",
    "        pass\n",
    "\n",
    "    @abstractmethod\n",
    "    def notificar_observadores(self, mensaje):\n",
    "        pass\n",
    "\n",
    "class SalaChat(Sujeto):\n",
    "    \"\"\"\n",
    "    Sujeto concreto que representa una sala de chat.\n",
    "    \"\"\"\n",
    "    def __init__(self):\n",
    "        self._observadores = []\n",
    "\n",
    "    def registrar_observador(self, observador):\n",
    "        self._observadores.append(observador)\n",
    "\n",
    "    def eliminar_observador(self, observador):\n",
    "        self._observadores.remove(observador)\n",
    "\n",
    "    def notificar_observadores(self, mensaje):\n",
    "        for observador in self._observadores:\n",
    "            observador.actualizar(mensaje)\n",
    "\n",
    "class Observador(ABC):\n",
    "    \"\"\"\n",
    "    Interfaz Observador que define el método de actualización.\n",
    "    \"\"\"\n",
    "    @abstractmethod\n",
    "    def actualizar(self, mensaje):\n",
    "        pass\n",
    "\n",
    "class ParticipanteChat(Observador):\n",
    "    \"\"\"\n",
    "    Observador concreto que representa un participante del chat.\n",
    "    \"\"\"\n",
    "    def __init__(self, nombre):\n",
    "        self._nombre = nombre\n",
    "\n",
    "    def actualizar(self, mensaje):\n",
    "        print(f\"{self._nombre} recibió el mensaje: {mensaje}\")\n",
    "\n",
    "if __name__ == \"__main__\":\n",
    "    # Crear una sala de chat\n",
    "    sala_chat = SalaChat()\n",
    "\n",
    "    # Crear participantes\n",
    "    participante1 = ParticipanteChat(\"Alice\")\n",
    "    participante2 = ParticipanteChat(\"Bob\")\n",
    "\n",
    "    # Registrar participantes como observadores\n",
    "    sala_chat.registrar_observador(participante1)\n",
    "    sala_chat.registrar_observador(participante2)\n",
    "\n",
    "    # Simular el envío de un mensaje a la sala de chat\n",
    "    sala_chat.notificar_observadores(\"¡Hola a todos!\")\n"
   ]
  }
 ],
 "metadata": {
  "kernelspec": {
   "display_name": "Python 3",
   "language": "python",
   "name": "python3"
  },
  "language_info": {
   "codemirror_mode": {
    "name": "ipython",
    "version": 3
   },
   "file_extension": ".py",
   "mimetype": "text/x-python",
   "name": "python",
   "nbconvert_exporter": "python",
   "pygments_lexer": "ipython3",
   "version": "3.10.13"
  }
 },
 "nbformat": 4,
 "nbformat_minor": 2
}
