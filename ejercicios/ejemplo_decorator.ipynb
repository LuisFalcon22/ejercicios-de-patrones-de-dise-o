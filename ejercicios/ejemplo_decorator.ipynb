<<<<<<< HEAD
{
 "cells": [
  {
   "cell_type": "code",
   "execution_count": null,
   "metadata": {},
   "outputs": [],
   "source": [
    "# Componente base: Interfaz de Café\n",
    "class Cafe:\n",
    "    def cost(self):\n",
    "        pass\n",
    "\n",
    "    def description(self):\n",
    "        pass\n",
    "\n",
    "# Componente concreto: Implementación básica de café\n",
    "class CafeSimple(Cafe):\n",
    "    def cost(self):\n",
    "        return 2.0\n",
    "\n",
    "    def description(self):\n",
    "        return \"Café Simple\"\n",
    "\n",
    "# Decorador: Clase base para los ingredientes adicionales\n",
    "class DecoradorCafe(Cafe):\n",
    "    def __init__(self, cafe):\n",
    "        self._cafe = cafe\n",
    "\n",
    "    def cost(self):\n",
    "        return self._cafe.cost()\n",
    "\n",
    "    def description(self):\n",
    "        return self._cafe.description()\n",
    "\n",
    "# Decoradores concretos: Ingredientes adicionales\n",
    "class Leche(DecoradorCafe):\n",
    "    def cost(self):\n",
    "        return self._cafe.cost() + 0.5\n",
    "\n",
    "    def description(self):\n",
    "        return self._cafe.description() + \", Leche\"\n",
    "\n",
    "class Azucar(DecoradorCafe):\n",
    "    def cost(self):\n",
    "        return self._cafe.cost() + 0.2\n",
    "\n",
    "    def description(self):\n",
    "        return self._cafe.description() + \", Azúcar\"\n",
    "\n",
    "# Ejemplo de uso\n",
    "if __name__ == \"__main__\":\n",
    "    cafe = CafeSimple()\n",
    "    print(\"Descripción:\", cafe.description(), \"Costo:\", cafe.cost())\n",
    "\n",
    "    cafe_con_leche = Leche(cafe)\n",
    "    print(\"Descripción:\", cafe_con_leche.description(), \"Costo:\", cafe_con_leche.cost())\n",
    "\n",
    "    cafe_con_leche_y_azucar = Azucar(cafe_con_leche)\n",
    "    print(\"Descripción:\", cafe_con_leche_y_azucar.description(), \"Costo:\", cafe_con_leche_y_azucar.cost())\n"
   ]
  }
 ],
 "metadata": {
  "language_info": {
   "name": "python"
  }
 },
 "nbformat": 4,
 "nbformat_minor": 2
}
=======
{
 "cells": [
  {
   "cell_type": "code",
   "execution_count": 2,
   "metadata": {},
   "outputs": [
    {
     "name": "stdout",
     "output_type": "stream",
     "text": [
      "Descripción: Café Simple Costo: 2.0\n",
      "Descripción: Café Simple, Leche Costo: 2.5\n",
      "Descripción: Café Simple, Leche, Azúcar Costo: 2.7\n"
     ]
    }
   ],
   "source": [
    "# Componente base: Interfaz de Café\n",
    "class Cafe:\n",
    "    def cost(self):\n",
    "        pass\n",
    "\n",
    "    def description(self):\n",
    "        pass\n",
    "\n",
    "# Componente concreto: Implementación básica de café\n",
    "class CafeSimple(Cafe):\n",
    "    def cost(self):\n",
    "        return 2.0\n",
    "\n",
    "    def description(self):\n",
    "        return \"Café Simple\"\n",
    "\n",
    "# Decorador: Clase base para los ingredientes adicionales\n",
    "class DecoradorCafe(Cafe):\n",
    "    def __init__(self, cafe):\n",
    "        self._cafe = cafe\n",
    "\n",
    "    def cost(self):\n",
    "        return self._cafe.cost()\n",
    "\n",
    "    def description(self):\n",
    "        return self._cafe.description()\n",
    "\n",
    "# Decoradores concretos: Ingredientes adicionales\n",
    "class Leche(DecoradorCafe):\n",
    "    def cost(self):\n",
    "        return self._cafe.cost() + 0.5\n",
    "\n",
    "    def description(self):\n",
    "        return self._cafe.description() + \", Leche\"\n",
    "\n",
    "class Azucar(DecoradorCafe):\n",
    "    def cost(self):\n",
    "        return self._cafe.cost() + 0.2\n",
    "\n",
    "    def description(self):\n",
    "        return self._cafe.description() + \", Azúcar\"\n",
    "\n",
    "# Ejemplo de uso\n",
    "if __name__ == \"__main__\":\n",
    "    cafe = CafeSimple()\n",
    "    print(\"Descripción:\", cafe.description(), \"Costo:\", cafe.cost())\n",
    "\n",
    "    cafe_con_leche = Leche(cafe)\n",
    "    print(\"Descripción:\", cafe_con_leche.description(), \"Costo:\", cafe_con_leche.cost())\n",
    "\n",
    "    cafe_con_leche_y_azucar = Azucar(cafe_con_leche)\n",
    "    print(\"Descripción:\", cafe_con_leche_y_azucar.description(), \"Costo:\", cafe_con_leche_y_azucar.cost())\n"
   ]
  }
 ],
 "metadata": {
  "kernelspec": {
   "display_name": "Python 3",
   "language": "python",
   "name": "python3"
  },
  "language_info": {
   "codemirror_mode": {
    "name": "ipython",
    "version": 3
   },
   "file_extension": ".py",
   "mimetype": "text/x-python",
   "name": "python",
   "nbconvert_exporter": "python",
   "pygments_lexer": "ipython3",
   "version": "3.10.13"
  }
 },
 "nbformat": 4,
 "nbformat_minor": 2
}
>>>>>>> 4d862ef421807c042644410c04c9b0870a1f0f03
