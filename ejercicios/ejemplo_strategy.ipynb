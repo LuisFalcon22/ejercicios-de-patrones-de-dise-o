{
 "cells": [
  {
   "cell_type": "code",
   "execution_count": 3,
   "metadata": {},
   "outputs": [
    {
     "name": "stdout",
     "output_type": "stream",
     "text": [
      "Procesando pago de 100 utilizando tarjeta de crédito.\n",
      "Procesando pago de 200 mediante transferencia bancaria.\n",
      "Procesando pago de 150 a través de PayPal.\n"
     ]
    }
   ],
   "source": [
    "# Interfaz para las estrategias de pago\n",
    "class EstrategiaPago:\n",
    "    def procesar_pago(self, monto):\n",
    "        pass\n",
    "\n",
    "# Implementaciones concretas de las estrategias de pago\n",
    "class PagoTarjetaCredito(EstrategiaPago):\n",
    "    def procesar_pago(self, monto):\n",
    "        print(f\"Procesando pago de {monto} utilizando tarjeta de crédito.\")\n",
    "\n",
    "class PagoTransferenciaBancaria(EstrategiaPago):\n",
    "    def procesar_pago(self, monto):\n",
    "        print(f\"Procesando pago de {monto} mediante transferencia bancaria.\")\n",
    "\n",
    "class PagoPayPal(EstrategiaPago):\n",
    "    def procesar_pago(self, monto):\n",
    "        print(f\"Procesando pago de {monto} a través de PayPal.\")\n",
    "\n",
    "# Contexto que utiliza las estrategias de pago\n",
    "class SistemaPago:\n",
    "    def __init__(self, estrategia_pago):\n",
    "        self.estrategia_pago = estrategia_pago\n",
    "\n",
    "    def cambiar_estrategia_pago(self, nueva_estrategia_pago):\n",
    "        self.estrategia_pago = nueva_estrategia_pago\n",
    "\n",
    "    def procesar_pago(self, monto):\n",
    "        self.estrategia_pago.procesar_pago(monto)\n",
    "\n",
    "# Ejemplo de uso\n",
    "# Creamos un sistema de pago con la estrategia de tarjeta de crédito\n",
    "sistema_pago = SistemaPago(PagoTarjetaCredito())\n",
    "sistema_pago.procesar_pago(100)\n",
    "\n",
    "# Cambiamos la estrategia de pago a transferencia bancaria\n",
    "sistema_pago.cambiar_estrategia_pago(PagoTransferenciaBancaria())\n",
    "sistema_pago.procesar_pago(200)\n",
    "\n",
    "# Cambiamos la estrategia de pago a PayPal\n",
    "sistema_pago.cambiar_estrategia_pago(PagoPayPal())\n",
    "sistema_pago.procesar_pago(150)\n"
   ]
  }
 ],
 "metadata": {
  "kernelspec": {
   "display_name": "Python 3",
   "language": "python",
   "name": "python3"
  },
  "language_info": {
   "codemirror_mode": {
    "name": "ipython",
    "version": 3
   },
   "file_extension": ".py",
   "mimetype": "text/x-python",
   "name": "python",
   "nbconvert_exporter": "python",
   "pygments_lexer": "ipython3",
   "version": "3.10.13"
  }
 },
 "nbformat": 4,
 "nbformat_minor": 2
}
